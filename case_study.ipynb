{
 "cells": [
  {
   "attachments": {},
   "cell_type": "markdown",
   "metadata": {},
   "source": [
    "File Requirements:"
   ]
  },
  {
   "cell_type": "code",
   "execution_count": 6,
   "metadata": {},
   "outputs": [],
   "source": [
    "import pandas as pd"
   ]
  },
  {
   "attachments": {},
   "cell_type": "markdown",
   "metadata": {},
   "source": [
    "## Acquistion Data"
   ]
  },
  {
   "cell_type": "code",
   "execution_count": 1,
   "metadata": {},
   "outputs": [],
   "source": [
    "# control variables\n",
    "ctrl_spend = 1010476\n",
    "ctrl_pop = 20014153\n",
    "ctrl_click = 200140\n",
    "ctrl_conv = 19815\n",
    "\n",
    "# test variables\n",
    "test_spend = 1020581\n",
    "test_pop = 20214295\n",
    "test_click = 208206\n",
    "test_conv = 23007\n",
    "\n",
    "# conversion by segment\n",
    "ctrl_a = 9906\n",
    "ctrl_b = 9909\n",
    "test_a = 10504\n",
    "test_b = 12503"
   ]
  },
  {
   "attachments": {},
   "cell_type": "markdown",
   "metadata": {},
   "source": [
    "## Profitability Assumptions"
   ]
  },
  {
   "cell_type": "code",
   "execution_count": 3,
   "metadata": {},
   "outputs": [],
   "source": [
    "def calculate_interchange(purchase_amount):\n",
    "    interchange_rate = 0.015  # 1.5% interchange rate\n",
    "    interchange_amount = purchase_amount * interchange_rate\n",
    "    return interchange_amount"
   ]
  },
  {
   "cell_type": "code",
   "execution_count": 4,
   "metadata": {},
   "outputs": [],
   "source": [
    "def calculate_cogs(purchase_amount):\n",
    "    cogs_rate = 0.0105  # 1.05% interchange rate\n",
    "    cogs = purchase_amount * cogs_rate\n",
    "    return cogs"
   ]
  },
  {
   "cell_type": "code",
   "execution_count": 5,
   "metadata": {},
   "outputs": [],
   "source": [
    "def calculate_tracker_cost(months,total_users):\n",
    "    month_cost = 5  # $5 monthly cost per member\n",
    "    tracker_cost = total_users * month_cost * months\n",
    "    return tracker_cost"
   ]
  },
  {
   "attachments": {},
   "cell_type": "markdown",
   "metadata": {},
   "source": [
    "## Performance Table"
   ]
  },
  {
   "cell_type": "code",
   "execution_count": 8,
   "metadata": {},
   "outputs": [],
   "source": [
    "df = pd.read_csv('Performance.csv')"
   ]
  }
 ],
 "metadata": {
  "kernelspec": {
   "display_name": "base",
   "language": "python",
   "name": "python3"
  },
  "language_info": {
   "codemirror_mode": {
    "name": "ipython",
    "version": 3
   },
   "file_extension": ".py",
   "mimetype": "text/x-python",
   "name": "python",
   "nbconvert_exporter": "python",
   "pygments_lexer": "ipython3",
   "version": "3.9.7"
  },
  "orig_nbformat": 4
 },
 "nbformat": 4,
 "nbformat_minor": 2
}
